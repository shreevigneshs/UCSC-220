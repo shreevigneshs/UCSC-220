{
  "nbformat": 4,
  "nbformat_minor": 0,
  "metadata": {
    "colab": {
      "provenance": [],
      "collapsed_sections": [],
      "mount_file_id": "1FXvhMUJYLJvtqDDDSAvLlR5FCqHhgi2m",
      "authorship_tag": "ABX9TyO3dgbpueK9yfji8mOrbdMw",
      "include_colab_link": true
    },
    "kernelspec": {
      "name": "python3",
      "display_name": "Python 3"
    },
    "language_info": {
      "name": "python"
    }
  },
  "cells": [
    {
      "cell_type": "markdown",
      "metadata": {
        "id": "view-in-github",
        "colab_type": "text"
      },
      "source": [
        "<a href=\"https://colab.research.google.com/github/shreevigneshs/UCSC-220/blob/main/assignments/220_assignment_1_problem_2.ipynb\" target=\"_parent\"><img src=\"https://colab.research.google.com/assets/colab-badge.svg\" alt=\"Open In Colab\"/></a>"
      ]
    },
    {
      "cell_type": "code",
      "execution_count": 2,
      "metadata": {
        "id": "IjJ_WIw9Bq8M"
      },
      "outputs": [],
      "source": [
        "import pandas as pd\n",
        "import numpy as np"
      ]
    },
    {
      "cell_type": "code",
      "execution_count": 3,
      "metadata": {
        "id": "uNOjHoC-Cbj0"
      },
      "outputs": [],
      "source": [
        "csv_path = \"/content/drive/MyDrive/NLP220/assignments/q2_imdb/q2_imdb_combined_data.csv\""
      ]
    },
    {
      "cell_type": "code",
      "execution_count": 4,
      "metadata": {
        "id": "Zv1BkS2JDdrg"
      },
      "outputs": [],
      "source": [
        "df = pd.read_csv(csv_path, encoding='utf-8')"
      ]
    },
    {
      "cell_type": "code",
      "execution_count": 5,
      "metadata": {
        "id": "i7mqHPp_EmA6",
        "colab": {
          "base_uri": "https://localhost:8080/",
          "height": 206
        },
        "outputId": "335c369d-2343-4432-fdb8-782401fb7148"
      },
      "outputs": [
        {
          "output_type": "execute_result",
          "data": {
            "text/plain": [
              "                                                    text sentiment\n",
              "49995  With actors like Depardieu and Richard it is r...  negative\n",
              "49996  If you like to get a couple of fleeting glimps...  negative\n",
              "49997  When something can be anything you want it to ...  negative\n",
              "49998  I had heard good things about \"States of Grace...  negative\n",
              "49999  Well, this movie actually did have one redeemi...  negative"
            ],
            "text/html": [
              "\n",
              "  <div id=\"df-778c7f58-f3d5-4dd0-bd55-682c68108ef5\">\n",
              "    <div class=\"colab-df-container\">\n",
              "      <div>\n",
              "<style scoped>\n",
              "    .dataframe tbody tr th:only-of-type {\n",
              "        vertical-align: middle;\n",
              "    }\n",
              "\n",
              "    .dataframe tbody tr th {\n",
              "        vertical-align: top;\n",
              "    }\n",
              "\n",
              "    .dataframe thead th {\n",
              "        text-align: right;\n",
              "    }\n",
              "</style>\n",
              "<table border=\"1\" class=\"dataframe\">\n",
              "  <thead>\n",
              "    <tr style=\"text-align: right;\">\n",
              "      <th></th>\n",
              "      <th>text</th>\n",
              "      <th>sentiment</th>\n",
              "    </tr>\n",
              "  </thead>\n",
              "  <tbody>\n",
              "    <tr>\n",
              "      <th>49995</th>\n",
              "      <td>With actors like Depardieu and Richard it is r...</td>\n",
              "      <td>negative</td>\n",
              "    </tr>\n",
              "    <tr>\n",
              "      <th>49996</th>\n",
              "      <td>If you like to get a couple of fleeting glimps...</td>\n",
              "      <td>negative</td>\n",
              "    </tr>\n",
              "    <tr>\n",
              "      <th>49997</th>\n",
              "      <td>When something can be anything you want it to ...</td>\n",
              "      <td>negative</td>\n",
              "    </tr>\n",
              "    <tr>\n",
              "      <th>49998</th>\n",
              "      <td>I had heard good things about \"States of Grace...</td>\n",
              "      <td>negative</td>\n",
              "    </tr>\n",
              "    <tr>\n",
              "      <th>49999</th>\n",
              "      <td>Well, this movie actually did have one redeemi...</td>\n",
              "      <td>negative</td>\n",
              "    </tr>\n",
              "  </tbody>\n",
              "</table>\n",
              "</div>\n",
              "      <button class=\"colab-df-convert\" onclick=\"convertToInteractive('df-778c7f58-f3d5-4dd0-bd55-682c68108ef5')\"\n",
              "              title=\"Convert this dataframe to an interactive table.\"\n",
              "              style=\"display:none;\">\n",
              "        \n",
              "  <svg xmlns=\"http://www.w3.org/2000/svg\" height=\"24px\"viewBox=\"0 0 24 24\"\n",
              "       width=\"24px\">\n",
              "    <path d=\"M0 0h24v24H0V0z\" fill=\"none\"/>\n",
              "    <path d=\"M18.56 5.44l.94 2.06.94-2.06 2.06-.94-2.06-.94-.94-2.06-.94 2.06-2.06.94zm-11 1L8.5 8.5l.94-2.06 2.06-.94-2.06-.94L8.5 2.5l-.94 2.06-2.06.94zm10 10l.94 2.06.94-2.06 2.06-.94-2.06-.94-.94-2.06-.94 2.06-2.06.94z\"/><path d=\"M17.41 7.96l-1.37-1.37c-.4-.4-.92-.59-1.43-.59-.52 0-1.04.2-1.43.59L10.3 9.45l-7.72 7.72c-.78.78-.78 2.05 0 2.83L4 21.41c.39.39.9.59 1.41.59.51 0 1.02-.2 1.41-.59l7.78-7.78 2.81-2.81c.8-.78.8-2.07 0-2.86zM5.41 20L4 18.59l7.72-7.72 1.47 1.35L5.41 20z\"/>\n",
              "  </svg>\n",
              "      </button>\n",
              "      \n",
              "  <style>\n",
              "    .colab-df-container {\n",
              "      display:flex;\n",
              "      flex-wrap:wrap;\n",
              "      gap: 12px;\n",
              "    }\n",
              "\n",
              "    .colab-df-convert {\n",
              "      background-color: #E8F0FE;\n",
              "      border: none;\n",
              "      border-radius: 50%;\n",
              "      cursor: pointer;\n",
              "      display: none;\n",
              "      fill: #1967D2;\n",
              "      height: 32px;\n",
              "      padding: 0 0 0 0;\n",
              "      width: 32px;\n",
              "    }\n",
              "\n",
              "    .colab-df-convert:hover {\n",
              "      background-color: #E2EBFA;\n",
              "      box-shadow: 0px 1px 2px rgba(60, 64, 67, 0.3), 0px 1px 3px 1px rgba(60, 64, 67, 0.15);\n",
              "      fill: #174EA6;\n",
              "    }\n",
              "\n",
              "    [theme=dark] .colab-df-convert {\n",
              "      background-color: #3B4455;\n",
              "      fill: #D2E3FC;\n",
              "    }\n",
              "\n",
              "    [theme=dark] .colab-df-convert:hover {\n",
              "      background-color: #434B5C;\n",
              "      box-shadow: 0px 1px 3px 1px rgba(0, 0, 0, 0.15);\n",
              "      filter: drop-shadow(0px 1px 2px rgba(0, 0, 0, 0.3));\n",
              "      fill: #FFFFFF;\n",
              "    }\n",
              "  </style>\n",
              "\n",
              "      <script>\n",
              "        const buttonEl =\n",
              "          document.querySelector('#df-778c7f58-f3d5-4dd0-bd55-682c68108ef5 button.colab-df-convert');\n",
              "        buttonEl.style.display =\n",
              "          google.colab.kernel.accessAllowed ? 'block' : 'none';\n",
              "\n",
              "        async function convertToInteractive(key) {\n",
              "          const element = document.querySelector('#df-778c7f58-f3d5-4dd0-bd55-682c68108ef5');\n",
              "          const dataTable =\n",
              "            await google.colab.kernel.invokeFunction('convertToInteractive',\n",
              "                                                     [key], {});\n",
              "          if (!dataTable) return;\n",
              "\n",
              "          const docLinkHtml = 'Like what you see? Visit the ' +\n",
              "            '<a target=\"_blank\" href=https://colab.research.google.com/notebooks/data_table.ipynb>data table notebook</a>'\n",
              "            + ' to learn more about interactive tables.';\n",
              "          element.innerHTML = '';\n",
              "          dataTable['output_type'] = 'display_data';\n",
              "          await google.colab.output.renderOutput(dataTable, element);\n",
              "          const docLink = document.createElement('div');\n",
              "          docLink.innerHTML = docLinkHtml;\n",
              "          element.appendChild(docLink);\n",
              "        }\n",
              "      </script>\n",
              "    </div>\n",
              "  </div>\n",
              "  "
            ]
          },
          "metadata": {},
          "execution_count": 5
        }
      ],
      "source": [
        "df.tail()"
      ]
    },
    {
      "cell_type": "code",
      "execution_count": 6,
      "metadata": {
        "colab": {
          "base_uri": "https://localhost:8080/"
        },
        "id": "6WGPFtosIrkg",
        "outputId": "ca5c10f9-fda6-4513-edcb-fc28b897d5d0"
      },
      "outputs": [
        {
          "output_type": "stream",
          "name": "stdout",
          "text": [
            "<class 'pandas.core.frame.DataFrame'>\n",
            "RangeIndex: 50000 entries, 0 to 49999\n",
            "Data columns (total 2 columns):\n",
            " #   Column     Non-Null Count  Dtype \n",
            "---  ------     --------------  ----- \n",
            " 0   text       50000 non-null  object\n",
            " 1   sentiment  50000 non-null  object\n",
            "dtypes: object(2)\n",
            "memory usage: 781.4+ KB\n"
          ]
        }
      ],
      "source": [
        "df.info()"
      ]
    },
    {
      "cell_type": "code",
      "source": [
        "from sklearn.model_selection import train_test_split\n",
        "random_state = 20221016\n",
        "X_train, X_test, y_train, y_test = train_test_split(df.text, df.sentiment, test_size=0.1, random_state=random_state, shuffle=True)"
      ],
      "metadata": {
        "id": "EEPCHS8edsIy"
      },
      "execution_count": 7,
      "outputs": []
    },
    {
      "cell_type": "code",
      "source": [
        "data={\"count\": [len([1 for _y in y_train if _y == 'positive']), len([1 for _y in y_train if _y == 'negative']), len([1 for _y in y_test if _y == 'positive']), len([1 for _y in y_test if _y == 'negative'])], \"sentiment\": [\"positive\", \"negative\"] * 2, \"split\": [\"train\", \"train\", \"test\", \"test\"]}\n",
        "split_df = pd.DataFrame(columns=[\"sentiment\", \"count\", \"split\"], data=data)\n",
        "split_df"
      ],
      "metadata": {
        "colab": {
          "base_uri": "https://localhost:8080/",
          "height": 175
        },
        "id": "VN9Jaa_WeDom",
        "outputId": "bc253112-08c3-4e1c-d618-7b39a32f6d1b"
      },
      "execution_count": 8,
      "outputs": [
        {
          "output_type": "execute_result",
          "data": {
            "text/plain": [
              "  sentiment  count  split\n",
              "0  positive  22542  train\n",
              "1  negative  22458  train\n",
              "2  positive   2458   test\n",
              "3  negative   2542   test"
            ],
            "text/html": [
              "\n",
              "  <div id=\"df-2452d141-2bdc-432a-9b35-444705c48cc4\">\n",
              "    <div class=\"colab-df-container\">\n",
              "      <div>\n",
              "<style scoped>\n",
              "    .dataframe tbody tr th:only-of-type {\n",
              "        vertical-align: middle;\n",
              "    }\n",
              "\n",
              "    .dataframe tbody tr th {\n",
              "        vertical-align: top;\n",
              "    }\n",
              "\n",
              "    .dataframe thead th {\n",
              "        text-align: right;\n",
              "    }\n",
              "</style>\n",
              "<table border=\"1\" class=\"dataframe\">\n",
              "  <thead>\n",
              "    <tr style=\"text-align: right;\">\n",
              "      <th></th>\n",
              "      <th>sentiment</th>\n",
              "      <th>count</th>\n",
              "      <th>split</th>\n",
              "    </tr>\n",
              "  </thead>\n",
              "  <tbody>\n",
              "    <tr>\n",
              "      <th>0</th>\n",
              "      <td>positive</td>\n",
              "      <td>22542</td>\n",
              "      <td>train</td>\n",
              "    </tr>\n",
              "    <tr>\n",
              "      <th>1</th>\n",
              "      <td>negative</td>\n",
              "      <td>22458</td>\n",
              "      <td>train</td>\n",
              "    </tr>\n",
              "    <tr>\n",
              "      <th>2</th>\n",
              "      <td>positive</td>\n",
              "      <td>2458</td>\n",
              "      <td>test</td>\n",
              "    </tr>\n",
              "    <tr>\n",
              "      <th>3</th>\n",
              "      <td>negative</td>\n",
              "      <td>2542</td>\n",
              "      <td>test</td>\n",
              "    </tr>\n",
              "  </tbody>\n",
              "</table>\n",
              "</div>\n",
              "      <button class=\"colab-df-convert\" onclick=\"convertToInteractive('df-2452d141-2bdc-432a-9b35-444705c48cc4')\"\n",
              "              title=\"Convert this dataframe to an interactive table.\"\n",
              "              style=\"display:none;\">\n",
              "        \n",
              "  <svg xmlns=\"http://www.w3.org/2000/svg\" height=\"24px\"viewBox=\"0 0 24 24\"\n",
              "       width=\"24px\">\n",
              "    <path d=\"M0 0h24v24H0V0z\" fill=\"none\"/>\n",
              "    <path d=\"M18.56 5.44l.94 2.06.94-2.06 2.06-.94-2.06-.94-.94-2.06-.94 2.06-2.06.94zm-11 1L8.5 8.5l.94-2.06 2.06-.94-2.06-.94L8.5 2.5l-.94 2.06-2.06.94zm10 10l.94 2.06.94-2.06 2.06-.94-2.06-.94-.94-2.06-.94 2.06-2.06.94z\"/><path d=\"M17.41 7.96l-1.37-1.37c-.4-.4-.92-.59-1.43-.59-.52 0-1.04.2-1.43.59L10.3 9.45l-7.72 7.72c-.78.78-.78 2.05 0 2.83L4 21.41c.39.39.9.59 1.41.59.51 0 1.02-.2 1.41-.59l7.78-7.78 2.81-2.81c.8-.78.8-2.07 0-2.86zM5.41 20L4 18.59l7.72-7.72 1.47 1.35L5.41 20z\"/>\n",
              "  </svg>\n",
              "      </button>\n",
              "      \n",
              "  <style>\n",
              "    .colab-df-container {\n",
              "      display:flex;\n",
              "      flex-wrap:wrap;\n",
              "      gap: 12px;\n",
              "    }\n",
              "\n",
              "    .colab-df-convert {\n",
              "      background-color: #E8F0FE;\n",
              "      border: none;\n",
              "      border-radius: 50%;\n",
              "      cursor: pointer;\n",
              "      display: none;\n",
              "      fill: #1967D2;\n",
              "      height: 32px;\n",
              "      padding: 0 0 0 0;\n",
              "      width: 32px;\n",
              "    }\n",
              "\n",
              "    .colab-df-convert:hover {\n",
              "      background-color: #E2EBFA;\n",
              "      box-shadow: 0px 1px 2px rgba(60, 64, 67, 0.3), 0px 1px 3px 1px rgba(60, 64, 67, 0.15);\n",
              "      fill: #174EA6;\n",
              "    }\n",
              "\n",
              "    [theme=dark] .colab-df-convert {\n",
              "      background-color: #3B4455;\n",
              "      fill: #D2E3FC;\n",
              "    }\n",
              "\n",
              "    [theme=dark] .colab-df-convert:hover {\n",
              "      background-color: #434B5C;\n",
              "      box-shadow: 0px 1px 3px 1px rgba(0, 0, 0, 0.15);\n",
              "      filter: drop-shadow(0px 1px 2px rgba(0, 0, 0, 0.3));\n",
              "      fill: #FFFFFF;\n",
              "    }\n",
              "  </style>\n",
              "\n",
              "      <script>\n",
              "        const buttonEl =\n",
              "          document.querySelector('#df-2452d141-2bdc-432a-9b35-444705c48cc4 button.colab-df-convert');\n",
              "        buttonEl.style.display =\n",
              "          google.colab.kernel.accessAllowed ? 'block' : 'none';\n",
              "\n",
              "        async function convertToInteractive(key) {\n",
              "          const element = document.querySelector('#df-2452d141-2bdc-432a-9b35-444705c48cc4');\n",
              "          const dataTable =\n",
              "            await google.colab.kernel.invokeFunction('convertToInteractive',\n",
              "                                                     [key], {});\n",
              "          if (!dataTable) return;\n",
              "\n",
              "          const docLinkHtml = 'Like what you see? Visit the ' +\n",
              "            '<a target=\"_blank\" href=https://colab.research.google.com/notebooks/data_table.ipynb>data table notebook</a>'\n",
              "            + ' to learn more about interactive tables.';\n",
              "          element.innerHTML = '';\n",
              "          dataTable['output_type'] = 'display_data';\n",
              "          await google.colab.output.renderOutput(dataTable, element);\n",
              "          const docLink = document.createElement('div');\n",
              "          docLink.innerHTML = docLinkHtml;\n",
              "          element.appendChild(docLink);\n",
              "        }\n",
              "      </script>\n",
              "    </div>\n",
              "  </div>\n",
              "  "
            ]
          },
          "metadata": {},
          "execution_count": 8
        }
      ]
    },
    {
      "cell_type": "code",
      "source": [
        "import seaborn as sns\n",
        "\n",
        "sns.barplot(data=split_df, x=\"sentiment\", y=\"count\", hue=\"split\")"
      ],
      "metadata": {
        "colab": {
          "base_uri": "https://localhost:8080/",
          "height": 297
        },
        "id": "biBng-J6eN43",
        "outputId": "5ff4c562-9145-4431-a4ec-0efbd73fcefe"
      },
      "execution_count": 9,
      "outputs": [
        {
          "output_type": "execute_result",
          "data": {
            "text/plain": [
              "<matplotlib.axes._subplots.AxesSubplot at 0x7fe03015f350>"
            ]
          },
          "metadata": {},
          "execution_count": 9
        },
        {
          "output_type": "display_data",
          "data": {
            "text/plain": [
              "<Figure size 432x288 with 1 Axes>"
            ],
            "image/png": "[encoded data removed]"
          },
          "metadata": {
            "needs_background": "light"
          }
        }
      ]
    },
    {
      "cell_type": "code",
      "source": [
        "# feature engineering = TF-IDF with ngrams range (1, 2) (unigrams and bigrams)\n",
        "\n",
        "from sklearn.feature_extraction.text import CountVectorizer\n",
        "from sklearn.feature_extraction.text import TfidfVectorizer, TfidfTransformer\n",
        "from sklearn.naive_bayes import MultinomialNB\n",
        "from sklearn import tree\n",
        "from sklearn.linear_model import LogisticRegression\n",
        "from sklearn.neighbors import KNeighborsClassifier\n",
        "from sklearn.ensemble import RandomForestClassifier\n",
        "from sklearn import svm\n",
        "from sklearn.pipeline import Pipeline\n",
        "from sklearn import metrics\n",
        "\n",
        "pipeline_1 = Pipeline(\n",
        "    [\n",
        "        (\"vect\", CountVectorizer(ngram_range=(1,2))),\n",
        "        (\"clf\", MultinomialNB()),\n",
        "    ]\n",
        ")\n",
        "\n",
        "pipeline_2 = Pipeline(\n",
        "    [\n",
        "        (\"vect\", CountVectorizer(ngram_range=(1,2))),\n",
        "        (\"clf\", tree.DecisionTreeClassifier()),\n",
        "    ]\n",
        ")\n",
        "\n",
        "pipeline_3 = Pipeline(\n",
        "    [\n",
        "        (\"vect\", CountVectorizer(ngram_range=(1,2))),\n",
        "        (\"clf\", LogisticRegression()),\n",
        "    ]\n",
        ")\n",
        "\n",
        "pipeline_4 = Pipeline(\n",
        "    [\n",
        "        (\"vect\", CountVectorizer(ngram_range=(1,2))),\n",
        "        (\"clf\", KNeighborsClassifier()),\n",
        "    ]\n",
        ")\n",
        "\n",
        "pipeline_5 = Pipeline(\n",
        "    [\n",
        "        (\"vect\", CountVectorizer(ngram_range=(1,2))),\n",
        "        (\"clf\", RandomForestClassifier()),\n",
        "    ]\n",
        ")"
      ],
      "metadata": {
        "id": "bIeB3ZqKeRhx"
      },
      "execution_count": 10,
      "outputs": []
    },
    {
      "cell_type": "code",
      "source": [
        "# for multinomial naive bayes\n",
        "\n",
        "pipeline_1.fit(X_train, y_train)\n",
        "predicted_1 = pipeline_1.predict(X_test)\n",
        "print(\"Classification Report Pipeline 1 (Count Vectorizer + Naive Bayes)\")\n",
        "print(\"Avg Accuracy: {}\".format(np.mean(predicted_1 == y_test)))\n",
        "print(metrics.classification_report(y_test, predicted_1))"
      ],
      "metadata": {
        "colab": {
          "base_uri": "https://localhost:8080/"
        },
        "id": "gt9v2vb6h7aL",
        "outputId": "9167f298-c4a6-4e37-e194-19b0ad70d297"
      },
      "execution_count": 11,
      "outputs": [
        {
          "output_type": "stream",
          "name": "stdout",
          "text": [
            "Classification Report Pipeline 1 (Count Vectorizer + Naive Bayes)\n",
            "Avg Accuracy: 0.883\n",
            "              precision    recall  f1-score   support\n",
            "\n",
            "    negative       0.87      0.90      0.89      2542\n",
            "    positive       0.89      0.86      0.88      2458\n",
            "\n",
            "    accuracy                           0.88      5000\n",
            "   macro avg       0.88      0.88      0.88      5000\n",
            "weighted avg       0.88      0.88      0.88      5000\n",
            "\n"
          ]
        }
      ]
    },
    {
      "cell_type": "code",
      "source": [
        "# for decision tree classifier\n",
        "\n",
        "pipeline_2.fit(X_train, y_train)\n",
        "predicted_2 = pipeline_2.predict(X_test)\n",
        "print(\"Classification Report Pipeline 2 (Count Vectorizer + Decision Tree Classifier)\")\n",
        "print(\"Avg Accuracy: {}\".format(np.mean(predicted_2 == y_test)))\n",
        "print(metrics.classification_report(y_test, predicted_2))"
      ],
      "metadata": {
        "colab": {
          "base_uri": "https://localhost:8080/"
        },
        "id": "ADbxofPgiOLu",
        "outputId": "e7d52efe-81cb-4522-a9e0-7df4c85cfd1b"
      },
      "execution_count": 12,
      "outputs": [
        {
          "output_type": "stream",
          "name": "stdout",
          "text": [
            "Classification Report Pipeline 2 (Count Vectorizer + Decision Tree Classifier)\n",
            "Avg Accuracy: 0.7276\n",
            "              precision    recall  f1-score   support\n",
            "\n",
            "    negative       0.73      0.73      0.73      2542\n",
            "    positive       0.72      0.72      0.72      2458\n",
            "\n",
            "    accuracy                           0.73      5000\n",
            "   macro avg       0.73      0.73      0.73      5000\n",
            "weighted avg       0.73      0.73      0.73      5000\n",
            "\n"
          ]
        }
      ]
    },
    {
      "cell_type": "code",
      "source": [
        "# for Logistic Regressor\n",
        "\n",
        "pipeline_3.fit(X_train, y_train)\n",
        "predicted_3 = pipeline_3.predict(X_test)\n",
        "print(\"Classification Report Pipeline 3 (Count Vectorizer + Logistic Regressor)\")\n",
        "print(\"Avg Accuracy: {}\".format(np.mean(predicted_3 == y_test)))\n",
        "print(metrics.classification_report(y_test, predicted_3))"
      ],
      "metadata": {
        "colab": {
          "base_uri": "https://localhost:8080/"
        },
        "id": "ZS8WdygAigaM",
        "outputId": "dbaf0927-0d10-4daa-a730-58d93f558a0d"
      },
      "execution_count": 13,
      "outputs": [
        {
          "output_type": "stream",
          "name": "stderr",
          "text": [
            "/usr/local/lib/python3.7/dist-packages/sklearn/linear_model/_logistic.py:818: ConvergenceWarning: lbfgs failed to converge (status=1):\n",
            "STOP: TOTAL NO. of ITERATIONS REACHED LIMIT.\n",
            "\n",
            "Increase the number of iterations (max_iter) or scale the data as shown in:\n",
            "    https://scikit-learn.org/stable/modules/preprocessing.html\n",
            "Please also refer to the documentation for alternative solver options:\n",
            "    https://scikit-learn.org/stable/modules/linear_model.html#logistic-regression\n",
            "  extra_warning_msg=_LOGISTIC_SOLVER_CONVERGENCE_MSG,\n"
          ]
        },
        {
          "output_type": "stream",
          "name": "stdout",
          "text": [
            "Classification Report Pipeline 3 (Count Vectorizer + Logistic Regressor)\n",
            "Avg Accuracy: 0.9096\n",
            "              precision    recall  f1-score   support\n",
            "\n",
            "    negative       0.92      0.90      0.91      2542\n",
            "    positive       0.90      0.92      0.91      2458\n",
            "\n",
            "    accuracy                           0.91      5000\n",
            "   macro avg       0.91      0.91      0.91      5000\n",
            "weighted avg       0.91      0.91      0.91      5000\n",
            "\n"
          ]
        }
      ]
    },
    {
      "cell_type": "code",
      "source": [
        "# for KNeighbours Classifier\n",
        "\n",
        "pipeline_4.fit(X_train, y_train)\n",
        "predicted_4 = pipeline_4.predict(X_test)\n",
        "print(\"Classification Report Pipeline 4 (Count Vectorizer + KNeighbors Classifier)\")\n",
        "print(\"Avg Accuracy: {}\".format(np.mean(predicted_4 == y_test)))\n",
        "print(metrics.classification_report(y_test, predicted_4))"
      ],
      "metadata": {
        "colab": {
          "base_uri": "https://localhost:8080/"
        },
        "id": "9miU79bYkPQC",
        "outputId": "51f8bf4c-2f7e-4762-cf43-fa3d7ddd41f7"
      },
      "execution_count": 14,
      "outputs": [
        {
          "output_type": "stream",
          "name": "stdout",
          "text": [
            "Classification Report Pipeline 4 (Count Vectorizer + KNeighbors Classifier)\n",
            "Avg Accuracy: 0.6188\n",
            "              precision    recall  f1-score   support\n",
            "\n",
            "    negative       0.63      0.60      0.62      2542\n",
            "    positive       0.61      0.64      0.62      2458\n",
            "\n",
            "    accuracy                           0.62      5000\n",
            "   macro avg       0.62      0.62      0.62      5000\n",
            "weighted avg       0.62      0.62      0.62      5000\n",
            "\n"
          ]
        }
      ]
    },
    {
      "cell_type": "code",
      "source": [
        "# for Random Forest Classifier\n",
        "\n",
        "pipeline_5.fit(X_train, y_train)\n",
        "predicted_5 = pipeline_5.predict(X_test)\n",
        "print(\"Classification Report Pipeline 5 (Count Vectorizer + Random Forest Classifier)\")\n",
        "print(\"Avg Accuracy: {}\".format(np.mean(predicted_5 == y_test)))\n",
        "print(metrics.classification_report(y_test, predicted_5))"
      ],
      "metadata": {
        "colab": {
          "base_uri": "https://localhost:8080/"
        },
        "id": "_YyBmkw9l6vj",
        "outputId": "82b0b054-39c1-4b5d-f24c-b62de2659fe4"
      },
      "execution_count": 15,
      "outputs": [
        {
          "output_type": "stream",
          "name": "stdout",
          "text": [
            "Classification Report Pipeline 5 (Count Vectorizer + Random Forest Classifier)\n",
            "Avg Accuracy: 0.8608\n",
            "              precision    recall  f1-score   support\n",
            "\n",
            "    negative       0.87      0.86      0.86      2542\n",
            "    positive       0.85      0.86      0.86      2458\n",
            "\n",
            "    accuracy                           0.86      5000\n",
            "   macro avg       0.86      0.86      0.86      5000\n",
            "weighted avg       0.86      0.86      0.86      5000\n",
            "\n"
          ]
        }
      ]
    },
    {
      "cell_type": "markdown",
      "source": [
        "# Analysis\n",
        "\n",
        "*   We have used the same featurization technique - Count Vectorizer with unigrams and bigrams (ngrams - (1, 2)) for all the different models.\n",
        "\n",
        "*   We have tried the following 5 different models:\n",
        "  *   K-Neighbours Classifier\n",
        "  *   Decision Tree\n",
        "  *   Random Forest\n",
        "  *   Multinomial Naive Bayes\n",
        "  *   Logistic Regressor\n",
        "\n",
        "*   Out of these we see that\n",
        "  *  Logistic Regressor has the highest accuracy (0.91).\n",
        "\n",
        "  *  Multinomial Naive Bayes has the second-highest accuracy (0.88) with a minor drop of ~3% from the best model.\n",
        "  *  Random Forest has the third-highest accuracy (0.86) with a drop of ~5% from the best model.\n",
        "  * Decision Tree has the second least accuracy (0.73) with a huge drop of ~18% from the best model.\n",
        "  * K-Neighbours has the least accuracy (0.62) with an enormous drop in performance of ~29% from the best model.\n",
        "* The reason logistic regression performs better naive bayes is due to the fact that naive bayes treats the features as independent, whereas logistic regression looks at the interactions between them. So logistic regression is better at capturing dependence/interaction between features and outperforms naive bayes for this classification task.\n",
        "* The reason decision tree performs poorly is due to the fact that they divide the decision space into squares so building clusters around things means it has to split a lot to encompass clusters of data. Also splitting a lot leads to complex trees which results in overfitting and the decision boundaries are not smooth. Random forest outperforms decision trees mainly because they are an ensemble of decision trees and due to this ensemble nature they avoid overfitting as they use multiple trees and take their average (in this case max voting) for prediction.\n",
        "* KNeighbour Classification performs better in settings when the data is low and the feature vectors are such that there is a good notion of distance metric between two feature vectors. Here it performs wore than decision trees simply because we are using count vectorizers with ngrams - (1,2) to featurize data. So the feature vectors have very high dimension but are also sparse. So the distance between two feature vectors doesn’t give us a good notion of why the two feature vectors are similar or different. Better feature vectors like using pretrained embeddings like for words like word2vec, glove, fasttext etcmigh perform better here.\n"
      ],
      "metadata": {
        "id": "TdXyo9-nefl3"
      }
    }
  ]
}