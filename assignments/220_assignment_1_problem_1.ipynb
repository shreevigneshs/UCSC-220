{
  "cells": [
    {
      "cell_type": "markdown",
      "metadata": {
        "id": "view-in-github",
        "colab_type": "text"
      },
      "source": [
        "<a href=\"https://colab.research.google.com/github/shreevigneshs/UCSC-220/blob/main/assignments/220_assignment_1_problem_1.ipynb\" target=\"_parent\"><img src=\"https://colab.research.google.com/assets/colab-badge.svg\" alt=\"Open In Colab\"/></a>"
      ]
    },
    {
      "cell_type": "code",
      "execution_count": 1,
      "metadata": {
        "id": "IjJ_WIw9Bq8M"
      },
      "outputs": [],
      "source": [
        "import pandas as pd\n",
        "import numpy as np"
      ]
    },
    {
      "cell_type": "code",
      "execution_count": 2,
      "metadata": {
        "id": "uNOjHoC-Cbj0"
      },
      "outputs": [],
      "source": [
        "csv_path = \"/content/drive/MyDrive/NLP220/assignments/IMDB Dataset.csv\""
      ]
    },
    {
      "cell_type": "code",
      "execution_count": 3,
      "metadata": {
        "id": "Zv1BkS2JDdrg"
      },
      "outputs": [],
      "source": [
        "df = pd.read_csv(csv_path, encoding='utf-8')"
      ]
    },
    {
      "cell_type": "code",
      "execution_count": 4,
      "metadata": {
        "colab": {
          "base_uri": "https://localhost:8080/",
          "height": 206
        },
        "id": "i7mqHPp_EmA6",
        "outputId": "60c276e1-752c-4e99-ffbc-c25114993500"
      },
      "outputs": [
        {
          "output_type": "execute_result",
          "data": {
            "text/plain": [
              "                                              review sentiment\n",
              "0  One of the other reviewers has mentioned that ...  positive\n",
              "1  A wonderful little production. <br /><br />The...  positive\n",
              "2  I thought this was a wonderful way to spend ti...  positive\n",
              "3  Basically there's a family where a little boy ...  negative\n",
              "4  Petter Mattei's \"Love in the Time of Money\" is...  positive"
            ],
            "text/html": [
              "\n",
              "  <div id=\"df-b12917bd-5866-4074-b804-7503dfea3c11\">\n",
              "    <div class=\"colab-df-container\">\n",
              "      <div>\n",
              "<style scoped>\n",
              "    .dataframe tbody tr th:only-of-type {\n",
              "        vertical-align: middle;\n",
              "    }\n",
              "\n",
              "    .dataframe tbody tr th {\n",
              "        vertical-align: top;\n",
              "    }\n",
              "\n",
              "    .dataframe thead th {\n",
              "        text-align: right;\n",
              "    }\n",
              "</style>\n",
              "<table border=\"1\" class=\"dataframe\">\n",
              "  <thead>\n",
              "    <tr style=\"text-align: right;\">\n",
              "      <th></th>\n",
              "      <th>review</th>\n",
              "      <th>sentiment</th>\n",
              "    </tr>\n",
              "  </thead>\n",
              "  <tbody>\n",
              "    <tr>\n",
              "      <th>0</th>\n",
              "      <td>One of the other reviewers has mentioned that ...</td>\n",
              "      <td>positive</td>\n",
              "    </tr>\n",
              "    <tr>\n",
              "      <th>1</th>\n",
              "      <td>A wonderful little production. &lt;br /&gt;&lt;br /&gt;The...</td>\n",
              "      <td>positive</td>\n",
              "    </tr>\n",
              "    <tr>\n",
              "      <th>2</th>\n",
              "      <td>I thought this was a wonderful way to spend ti...</td>\n",
              "      <td>positive</td>\n",
              "    </tr>\n",
              "    <tr>\n",
              "      <th>3</th>\n",
              "      <td>Basically there's a family where a little boy ...</td>\n",
              "      <td>negative</td>\n",
              "    </tr>\n",
              "    <tr>\n",
              "      <th>4</th>\n",
              "      <td>Petter Mattei's \"Love in the Time of Money\" is...</td>\n",
              "      <td>positive</td>\n",
              "    </tr>\n",
              "  </tbody>\n",
              "</table>\n",
              "</div>\n",
              "      <button class=\"colab-df-convert\" onclick=\"convertToInteractive('df-b12917bd-5866-4074-b804-7503dfea3c11')\"\n",
              "              title=\"Convert this dataframe to an interactive table.\"\n",
              "              style=\"display:none;\">\n",
              "        \n",
              "  <svg xmlns=\"http://www.w3.org/2000/svg\" height=\"24px\"viewBox=\"0 0 24 24\"\n",
              "       width=\"24px\">\n",
              "    <path d=\"M0 0h24v24H0V0z\" fill=\"none\"/>\n",
              "    <path d=\"M18.56 5.44l.94 2.06.94-2.06 2.06-.94-2.06-.94-.94-2.06-.94 2.06-2.06.94zm-11 1L8.5 8.5l.94-2.06 2.06-.94-2.06-.94L8.5 2.5l-.94 2.06-2.06.94zm10 10l.94 2.06.94-2.06 2.06-.94-2.06-.94-.94-2.06-.94 2.06-2.06.94z\"/><path d=\"M17.41 7.96l-1.37-1.37c-.4-.4-.92-.59-1.43-.59-.52 0-1.04.2-1.43.59L10.3 9.45l-7.72 7.72c-.78.78-.78 2.05 0 2.83L4 21.41c.39.39.9.59 1.41.59.51 0 1.02-.2 1.41-.59l7.78-7.78 2.81-2.81c.8-.78.8-2.07 0-2.86zM5.41 20L4 18.59l7.72-7.72 1.47 1.35L5.41 20z\"/>\n",
              "  </svg>\n",
              "      </button>\n",
              "      \n",
              "  <style>\n",
              "    .colab-df-container {\n",
              "      display:flex;\n",
              "      flex-wrap:wrap;\n",
              "      gap: 12px;\n",
              "    }\n",
              "\n",
              "    .colab-df-convert {\n",
              "      background-color: #E8F0FE;\n",
              "      border: none;\n",
              "      border-radius: 50%;\n",
              "      cursor: pointer;\n",
              "      display: none;\n",
              "      fill: #1967D2;\n",
              "      height: 32px;\n",
              "      padding: 0 0 0 0;\n",
              "      width: 32px;\n",
              "    }\n",
              "\n",
              "    .colab-df-convert:hover {\n",
              "      background-color: #E2EBFA;\n",
              "      box-shadow: 0px 1px 2px rgba(60, 64, 67, 0.3), 0px 1px 3px 1px rgba(60, 64, 67, 0.15);\n",
              "      fill: #174EA6;\n",
              "    }\n",
              "\n",
              "    [theme=dark] .colab-df-convert {\n",
              "      background-color: #3B4455;\n",
              "      fill: #D2E3FC;\n",
              "    }\n",
              "\n",
              "    [theme=dark] .colab-df-convert:hover {\n",
              "      background-color: #434B5C;\n",
              "      box-shadow: 0px 1px 3px 1px rgba(0, 0, 0, 0.15);\n",
              "      filter: drop-shadow(0px 1px 2px rgba(0, 0, 0, 0.3));\n",
              "      fill: #FFFFFF;\n",
              "    }\n",
              "  </style>\n",
              "\n",
              "      <script>\n",
              "        const buttonEl =\n",
              "          document.querySelector('#df-b12917bd-5866-4074-b804-7503dfea3c11 button.colab-df-convert');\n",
              "        buttonEl.style.display =\n",
              "          google.colab.kernel.accessAllowed ? 'block' : 'none';\n",
              "\n",
              "        async function convertToInteractive(key) {\n",
              "          const element = document.querySelector('#df-b12917bd-5866-4074-b804-7503dfea3c11');\n",
              "          const dataTable =\n",
              "            await google.colab.kernel.invokeFunction('convertToInteractive',\n",
              "                                                     [key], {});\n",
              "          if (!dataTable) return;\n",
              "\n",
              "          const docLinkHtml = 'Like what you see? Visit the ' +\n",
              "            '<a target=\"_blank\" href=https://colab.research.google.com/notebooks/data_table.ipynb>data table notebook</a>'\n",
              "            + ' to learn more about interactive tables.';\n",
              "          element.innerHTML = '';\n",
              "          dataTable['output_type'] = 'display_data';\n",
              "          await google.colab.output.renderOutput(dataTable, element);\n",
              "          const docLink = document.createElement('div');\n",
              "          docLink.innerHTML = docLinkHtml;\n",
              "          element.appendChild(docLink);\n",
              "        }\n",
              "      </script>\n",
              "    </div>\n",
              "  </div>\n",
              "  "
            ]
          },
          "metadata": {},
          "execution_count": 4
        }
      ],
      "source": [
        "df.head()"
      ]
    },
    {
      "cell_type": "code",
      "execution_count": 10,
      "metadata": {
        "id": "-MYS7G9aFvpI"
      },
      "outputs": [],
      "source": [
        "# it looks like there are some html texts in the text"
      ]
    },
    {
      "cell_type": "code",
      "execution_count": 5,
      "metadata": {
        "colab": {
          "base_uri": "https://localhost:8080/"
        },
        "id": "6WGPFtosIrkg",
        "outputId": "23a1e62d-64be-4c5a-ebc8-ce229f84ae15"
      },
      "outputs": [
        {
          "output_type": "stream",
          "name": "stdout",
          "text": [
            "<class 'pandas.core.frame.DataFrame'>\n",
            "RangeIndex: 50000 entries, 0 to 49999\n",
            "Data columns (total 2 columns):\n",
            " #   Column     Non-Null Count  Dtype \n",
            "---  ------     --------------  ----- \n",
            " 0   review     50000 non-null  object\n",
            " 1   sentiment  50000 non-null  object\n",
            "dtypes: object(2)\n",
            "memory usage: 781.4+ KB\n"
          ]
        }
      ],
      "source": [
        "df.info()"
      ]
    },
    {
      "cell_type": "code",
      "execution_count": 6,
      "metadata": {
        "id": "PwwA0a3OFmqO"
      },
      "outputs": [],
      "source": [
        "from bs4 import BeautifulSoup\n",
        "\n",
        "def strip_html(text):\n",
        "    soup = BeautifulSoup(text, \"html.parser\")\n",
        "    return soup.get_text()\n",
        "\n",
        "df['review'] = df['review'].apply(strip_html)"
      ]
    },
    {
      "cell_type": "code",
      "execution_count": 7,
      "metadata": {
        "colab": {
          "base_uri": "https://localhost:8080/"
        },
        "id": "avTCYD_8Sxsq",
        "outputId": "60f41c7f-a896-4d20-8f13-c761669e0712"
      },
      "outputs": [
        {
          "output_type": "execute_result",
          "data": {
            "text/plain": [
              "positive    25000\n",
              "negative    25000\n",
              "Name: sentiment, dtype: int64"
            ]
          },
          "metadata": {},
          "execution_count": 7
        }
      ],
      "source": [
        "df['sentiment'].value_counts()"
      ]
    },
    {
      "cell_type": "code",
      "execution_count": 17,
      "metadata": {
        "id": "oKiExceLTB_W"
      },
      "outputs": [],
      "source": [
        "from sklearn.model_selection import train_test_split\n",
        "random_state = 20221013\n",
        "X_train, X_test, y_train, y_test = train_test_split(df.review, df.sentiment, test_size=0.1, random_state=random_state, shuffle=True)"
      ]
    },
    {
      "cell_type": "code",
      "execution_count": 9,
      "metadata": {
        "id": "wbTMf5S_cdQ-"
      },
      "outputs": [],
      "source": [
        "data={\"count\": [len([1 for _y in y_train if _y == 'positive']), len([1 for _y in y_train if _y == 'negative']), len([1 for _y in y_test if _y == 'positive']), len([1 for _y in y_test if _y == 'negative'])], \"sentiment\": [\"positive\", \"negative\"] * 2, \"split\": [\"train\", \"train\", \"test\", \"test\"]}\n",
        "split_df = pd.DataFrame(columns=[\"sentiment\", \"count\", \"split\"], data=data)"
      ]
    },
    {
      "cell_type": "code",
      "execution_count": 10,
      "metadata": {
        "colab": {
          "base_uri": "https://localhost:8080/",
          "height": 175
        },
        "id": "eDMx4sXdc5Pd",
        "outputId": "90a8f619-75a1-44fa-c4dc-a9dba48a7176"
      },
      "outputs": [
        {
          "output_type": "execute_result",
          "data": {
            "text/plain": [
              "  sentiment  count  split\n",
              "0  positive  22471  train\n",
              "1  negative  22529  train\n",
              "2  positive   2529   test\n",
              "3  negative   2471   test"
            ],
            "text/html": [
              "\n",
              "  <div id=\"df-634e1671-5453-47a4-bb88-edf7b3599a81\">\n",
              "    <div class=\"colab-df-container\">\n",
              "      <div>\n",
              "<style scoped>\n",
              "    .dataframe tbody tr th:only-of-type {\n",
              "        vertical-align: middle;\n",
              "    }\n",
              "\n",
              "    .dataframe tbody tr th {\n",
              "        vertical-align: top;\n",
              "    }\n",
              "\n",
              "    .dataframe thead th {\n",
              "        text-align: right;\n",
              "    }\n",
              "</style>\n",
              "<table border=\"1\" class=\"dataframe\">\n",
              "  <thead>\n",
              "    <tr style=\"text-align: right;\">\n",
              "      <th></th>\n",
              "      <th>sentiment</th>\n",
              "      <th>count</th>\n",
              "      <th>split</th>\n",
              "    </tr>\n",
              "  </thead>\n",
              "  <tbody>\n",
              "    <tr>\n",
              "      <th>0</th>\n",
              "      <td>positive</td>\n",
              "      <td>22471</td>\n",
              "      <td>train</td>\n",
              "    </tr>\n",
              "    <tr>\n",
              "      <th>1</th>\n",
              "      <td>negative</td>\n",
              "      <td>22529</td>\n",
              "      <td>train</td>\n",
              "    </tr>\n",
              "    <tr>\n",
              "      <th>2</th>\n",
              "      <td>positive</td>\n",
              "      <td>2529</td>\n",
              "      <td>test</td>\n",
              "    </tr>\n",
              "    <tr>\n",
              "      <th>3</th>\n",
              "      <td>negative</td>\n",
              "      <td>2471</td>\n",
              "      <td>test</td>\n",
              "    </tr>\n",
              "  </tbody>\n",
              "</table>\n",
              "</div>\n",
              "      <button class=\"colab-df-convert\" onclick=\"convertToInteractive('df-634e1671-5453-47a4-bb88-edf7b3599a81')\"\n",
              "              title=\"Convert this dataframe to an interactive table.\"\n",
              "              style=\"display:none;\">\n",
              "        \n",
              "  <svg xmlns=\"http://www.w3.org/2000/svg\" height=\"24px\"viewBox=\"0 0 24 24\"\n",
              "       width=\"24px\">\n",
              "    <path d=\"M0 0h24v24H0V0z\" fill=\"none\"/>\n",
              "    <path d=\"M18.56 5.44l.94 2.06.94-2.06 2.06-.94-2.06-.94-.94-2.06-.94 2.06-2.06.94zm-11 1L8.5 8.5l.94-2.06 2.06-.94-2.06-.94L8.5 2.5l-.94 2.06-2.06.94zm10 10l.94 2.06.94-2.06 2.06-.94-2.06-.94-.94-2.06-.94 2.06-2.06.94z\"/><path d=\"M17.41 7.96l-1.37-1.37c-.4-.4-.92-.59-1.43-.59-.52 0-1.04.2-1.43.59L10.3 9.45l-7.72 7.72c-.78.78-.78 2.05 0 2.83L4 21.41c.39.39.9.59 1.41.59.51 0 1.02-.2 1.41-.59l7.78-7.78 2.81-2.81c.8-.78.8-2.07 0-2.86zM5.41 20L4 18.59l7.72-7.72 1.47 1.35L5.41 20z\"/>\n",
              "  </svg>\n",
              "      </button>\n",
              "      \n",
              "  <style>\n",
              "    .colab-df-container {\n",
              "      display:flex;\n",
              "      flex-wrap:wrap;\n",
              "      gap: 12px;\n",
              "    }\n",
              "\n",
              "    .colab-df-convert {\n",
              "      background-color: #E8F0FE;\n",
              "      border: none;\n",
              "      border-radius: 50%;\n",
              "      cursor: pointer;\n",
              "      display: none;\n",
              "      fill: #1967D2;\n",
              "      height: 32px;\n",
              "      padding: 0 0 0 0;\n",
              "      width: 32px;\n",
              "    }\n",
              "\n",
              "    .colab-df-convert:hover {\n",
              "      background-color: #E2EBFA;\n",
              "      box-shadow: 0px 1px 2px rgba(60, 64, 67, 0.3), 0px 1px 3px 1px rgba(60, 64, 67, 0.15);\n",
              "      fill: #174EA6;\n",
              "    }\n",
              "\n",
              "    [theme=dark] .colab-df-convert {\n",
              "      background-color: #3B4455;\n",
              "      fill: #D2E3FC;\n",
              "    }\n",
              "\n",
              "    [theme=dark] .colab-df-convert:hover {\n",
              "      background-color: #434B5C;\n",
              "      box-shadow: 0px 1px 3px 1px rgba(0, 0, 0, 0.15);\n",
              "      filter: drop-shadow(0px 1px 2px rgba(0, 0, 0, 0.3));\n",
              "      fill: #FFFFFF;\n",
              "    }\n",
              "  </style>\n",
              "\n",
              "      <script>\n",
              "        const buttonEl =\n",
              "          document.querySelector('#df-634e1671-5453-47a4-bb88-edf7b3599a81 button.colab-df-convert');\n",
              "        buttonEl.style.display =\n",
              "          google.colab.kernel.accessAllowed ? 'block' : 'none';\n",
              "\n",
              "        async function convertToInteractive(key) {\n",
              "          const element = document.querySelector('#df-634e1671-5453-47a4-bb88-edf7b3599a81');\n",
              "          const dataTable =\n",
              "            await google.colab.kernel.invokeFunction('convertToInteractive',\n",
              "                                                     [key], {});\n",
              "          if (!dataTable) return;\n",
              "\n",
              "          const docLinkHtml = 'Like what you see? Visit the ' +\n",
              "            '<a target=\"_blank\" href=https://colab.research.google.com/notebooks/data_table.ipynb>data table notebook</a>'\n",
              "            + ' to learn more about interactive tables.';\n",
              "          element.innerHTML = '';\n",
              "          dataTable['output_type'] = 'display_data';\n",
              "          await google.colab.output.renderOutput(dataTable, element);\n",
              "          const docLink = document.createElement('div');\n",
              "          docLink.innerHTML = docLinkHtml;\n",
              "          element.appendChild(docLink);\n",
              "        }\n",
              "      </script>\n",
              "    </div>\n",
              "  </div>\n",
              "  "
            ]
          },
          "metadata": {},
          "execution_count": 10
        }
      ],
      "source": [
        "split_df"
      ]
    },
    {
      "cell_type": "code",
      "execution_count": 11,
      "metadata": {
        "colab": {
          "base_uri": "https://localhost:8080/",
          "height": 297
        },
        "id": "1o25AsuRWQP_",
        "outputId": "ebffc89b-00a0-44c7-9194-e0417fd88ba4"
      },
      "outputs": [
        {
          "output_type": "execute_result",
          "data": {
            "text/plain": [
              "<matplotlib.axes._subplots.AxesSubplot at 0x7fb88b3e41d0>"
            ]
          },
          "metadata": {},
          "execution_count": 11
        },
        {
          "output_type": "display_data",
          "data": {
            "text/plain": [
              "<Figure size 432x288 with 1 Axes>"
            ],
            "image/png": "[encoded data removed]"
          },
          "metadata": {
            "needs_background": "light"
          }
        }
      ],
      "source": [
        "import seaborn as sns\n",
        "\n",
        "sns.barplot(data=split_df, x=\"sentiment\", y=\"count\", hue=\"split\")"
      ]
    },
    {
      "cell_type": "code",
      "execution_count": 12,
      "metadata": {
        "id": "1wXBnMccgvYB"
      },
      "outputs": [],
      "source": [
        "# # we split such that we get 0.2 val data as mentioned in the assignemnt\n",
        "# # now since the data is 0.8 of the whole value so we use 0.12 as the split ratio since 0.12 x 0.9 ~ 0.1\n",
        "# X_train, X_val, y_train, y_val = train_test_split(X_train, y_train, test_size=0.25, random_state=random_state, shuffle=True)\n"
      ]
    },
    {
      "cell_type": "code",
      "execution_count": 13,
      "metadata": {
        "id": "tE30q-0IbDry"
      },
      "outputs": [],
      "source": [
        "# feature engineering 1 = Count Vectorizer\n",
        "# feature engineering 2 = TF-IDF\n",
        "# feature engineering 3 = TF-IDF with ngrams = (1, 2)\n",
        "\n",
        "from sklearn.feature_extraction.text import CountVectorizer\n",
        "from sklearn.feature_extraction.text import TfidfVectorizer, TfidfTransformer\n",
        "from sklearn.naive_bayes import MultinomialNB\n",
        "from sklearn import svm\n",
        "from sklearn.pipeline import Pipeline\n",
        "from sklearn import metrics\n",
        "\n",
        "# multimodal naive bayes\n",
        "\n",
        "pipeline_1 = Pipeline(\n",
        "    [\n",
        "        (\"vect\", CountVectorizer()),\n",
        "        (\"clf\", MultinomialNB()),\n",
        "    ]\n",
        ")\n",
        "\n",
        "pipeline_2 = Pipeline(\n",
        "    [\n",
        "        (\"vect\", TfidfVectorizer()),\n",
        "        (\"clf\", MultinomialNB()),\n",
        "    ]\n",
        ")\n",
        "\n",
        "pipeline_3 = Pipeline(\n",
        "    [\n",
        "        (\"vect\", TfidfVectorizer(ngram_range=(1,2))),\n",
        "        (\"clf\", MultinomialNB()),\n",
        "    ]\n",
        ")\n",
        "\n",
        "# svm\n",
        "\n",
        "pipeline_4 = Pipeline(\n",
        "    [\n",
        "        (\"vect\", CountVectorizer()),\n",
        "        (\"clf\", svm.SVC()),\n",
        "    ]\n",
        ")\n",
        "\n",
        "pipeline_5 = Pipeline(\n",
        "    [\n",
        "        (\"vect\", TfidfVectorizer()),\n",
        "        (\"clf\", svm.SVC()),\n",
        "    ]\n",
        ")\n",
        "\n",
        "pipeline_6 = Pipeline(\n",
        "    [\n",
        "        (\"vect\", TfidfVectorizer(ngram_range=(1,2))),\n",
        "        (\"clf\", svm.SVC()),\n",
        "    ]\n",
        ")"
      ]
    },
    {
      "cell_type": "code",
      "execution_count": 45,
      "metadata": {
        "colab": {
          "base_uri": "https://localhost:8080/"
        },
        "id": "TYOi8FdDjXHL",
        "outputId": "2ee711ee-df22-43fc-e140-6a971a8a2613"
      },
      "outputs": [
        {
          "output_type": "stream",
          "name": "stdout",
          "text": [
            "Classification Report Pipeline 1 (Count Vectorizer + Naive Bayes)\n",
            "Avg Accuracy: 0.8474\n",
            "              precision    recall  f1-score   support\n",
            "\n",
            "    negative       0.82      0.88      0.85      2471\n",
            "    positive       0.88      0.81      0.84      2529\n",
            "\n",
            "    accuracy                           0.85      5000\n",
            "   macro avg       0.85      0.85      0.85      5000\n",
            "weighted avg       0.85      0.85      0.85      5000\n",
            "\n",
            "Classification Report Pipeline 1 (TFIDF + Naive Bayes)\n",
            "Avg Accuracy: 0.8636\n",
            "              precision    recall  f1-score   support\n",
            "\n",
            "    negative       0.84      0.89      0.87      2471\n",
            "    positive       0.89      0.84      0.86      2529\n",
            "\n",
            "    accuracy                           0.86      5000\n",
            "   macro avg       0.86      0.86      0.86      5000\n",
            "weighted avg       0.86      0.86      0.86      5000\n",
            "\n",
            "Classification Report Pipeline 2 (TFIDF with ngram-(1,2) + Naive Bayes)\n",
            "Avg Accuracy: 0.8902\n",
            "              precision    recall  f1-score   support\n",
            "\n",
            "    negative       0.87      0.91      0.89      2471\n",
            "    positive       0.91      0.87      0.89      2529\n",
            "\n",
            "    accuracy                           0.89      5000\n",
            "   macro avg       0.89      0.89      0.89      5000\n",
            "weighted avg       0.89      0.89      0.89      5000\n",
            "\n"
          ]
        }
      ],
      "source": [
        "# for naive bayes\n",
        "\n",
        "pipeline_1.fit(X_train, y_train)\n",
        "predicted_1 = pipeline_1.predict(X_test)\n",
        "print(\"Classification Report Pipeline 1 (Count Vectorizer + Naive Bayes)\")\n",
        "print(\"Avg Accuracy: {}\".format(np.mean(predicted_1 == y_test)))\n",
        "print(metrics.classification_report(y_test, predicted_1))\n",
        "\n",
        "pipeline_2.fit(X_train, y_train)\n",
        "predicted_2 = pipeline_2.predict(X_test)\n",
        "print(\"Classification Report Pipeline 1 (TF-IDF + Naive Bayes)\")\n",
        "print(\"Avg Accuracy: {}\".format(np.mean(predicted_2 == y_test)))\n",
        "print(metrics.classification_report(y_test, predicted_2))\n",
        "\n",
        "pipeline_3.fit(X_train, y_train)\n",
        "predicted_3 = pipeline_3.predict(X_test)\n",
        "print(\"Classification Report Pipeline 2 (TF-IDF with ngram range (1,2) + Naive Bayes)\")\n",
        "print(\"Avg Accuracy: {}\".format(np.mean(predicted_3 == y_test)))\n",
        "print(metrics.classification_report(y_test, predicted_3))\n",
        "\n"
      ]
    },
    {
      "cell_type": "code",
      "execution_count": null,
      "metadata": {
        "id": "TyO7WDB9jsMX"
      },
      "outputs": [],
      "source": [
        "# For multinomial naive bayes we see that of the 3 feature engineering techniques, technique 3 (TF-IDF with ngrams (1,2)) performs best with an accuracy of 0.89.\n",
        "# Feature engineering technique 2 (vanilla TF-IDF) performs marginally better than feature engineering 1 (Count Vectorizer).\n",
        "# Overall Technique 3 accuracy (0.89) > Technique 2 accuracy (0.86) > Technique 1 accuracy (0.85)"
      ]
    },
    {
      "cell_type": "code",
      "source": [
        "# for svm\n",
        "\n",
        "pipeline_4.fit(X_train, y_train)\n",
        "predicted_4 = pipeline_4.predict(X_test)\n",
        "print(\"Classification Report Pipeline 4 (Count Vectorizer + SVM)\")\n",
        "print(\"Avg Accuracy: {}\".format(np.mean(predicted_4 == y_test)))\n",
        "print(metrics.classification_report(y_test, predicted_4))"
      ],
      "metadata": {
        "colab": {
          "base_uri": "https://localhost:8080/"
        },
        "id": "yibyuYeEh46o",
        "outputId": "08357587-f213-46e9-c4b0-1972409c8b5d"
      },
      "execution_count": null,
      "outputs": [
        {
          "metadata": {
            "tags": null
          },
          "name": "stdout",
          "output_type": "stream",
          "text": [
            "Classification Report Pipeline 4 (Count Vectorizer + SVM)\n",
            "Avg Accuracy: 0.8848\n",
            "              precision    recall  f1-score   support\n",
            "\n",
            "    negative       0.89      0.87      0.88      2471\n",
            "    positive       0.88      0.90      0.89      2529\n",
            "\n",
            "    accuracy                           0.88      5000\n",
            "   macro avg       0.88      0.88      0.88      5000\n",
            "weighted avg       0.88      0.88      0.88      5000\n",
            "\n"
          ]
        }
      ]
    },
    {
      "cell_type": "code",
      "source": [
        "pipeline_5.fit(X_train, y_train)\n",
        "predicted_5 = pipeline_5.predict(X_test)\n",
        "print(\"Classification Report Pipeline 5 (TF-IDF + SVM)\")\n",
        "print(\"Avg Accuracy: {}\".format(np.mean(predicted_5 == y_test)))\n",
        "print(metrics.classification_report(y_test, predicted_5))"
      ],
      "metadata": {
        "colab": {
          "base_uri": "https://localhost:8080/"
        },
        "id": "IltYurcE3KoR",
        "outputId": "3845c6cd-93ec-4637-e448-fee40e9a813e"
      },
      "execution_count": 14,
      "outputs": [
        {
          "output_type": "stream",
          "name": "stdout",
          "text": [
            "Classification Report Pipeline 5 (TF-IDF + SVM)\n",
            "Avg Accuracy: 0.9116\n",
            "              precision    recall  f1-score   support\n",
            "\n",
            "    negative       0.91      0.91      0.91      2471\n",
            "    positive       0.91      0.92      0.91      2529\n",
            "\n",
            "    accuracy                           0.91      5000\n",
            "   macro avg       0.91      0.91      0.91      5000\n",
            "weighted avg       0.91      0.91      0.91      5000\n",
            "\n"
          ]
        }
      ]
    },
    {
      "cell_type": "code",
      "source": [
        "# with less data so it trains faster\n",
        "# X_train = X_train[:10000]\n",
        "# y_train = y_train[:10000]\n",
        "\n",
        "pipeline_6.fit(X_train, y_train)\n",
        "predicted_6 = pipeline_6.predict(X_test)\n",
        "print(\"Classification Report Pipeline 6 (TF-IDF with ngram range (1,2) + SVM)\")\n",
        "print(\"Avg Accuracy: {}\".format(np.mean(predicted_6 == y_test)))\n",
        "print(metrics.classification_report(y_test, predicted_6))"
      ],
      "metadata": {
        "colab": {
          "base_uri": "https://localhost:8080/"
        },
        "id": "FOSvJivC3M7H",
        "outputId": "7851c210-5c3b-4bac-b1ac-133c1167835b"
      },
      "execution_count": 16,
      "outputs": [
        {
          "output_type": "stream",
          "name": "stdout",
          "text": [
            "Classification Report Pipeline 6 (TF-IDF with ngram range (1,2) + SVM)\n",
            "Avg Accuracy: 0.889\n",
            "              precision    recall  f1-score   support\n",
            "\n",
            "    negative       0.89      0.88      0.89      2471\n",
            "    positive       0.88      0.90      0.89      2529\n",
            "\n",
            "    accuracy                           0.89      5000\n",
            "   macro avg       0.89      0.89      0.89      5000\n",
            "weighted avg       0.89      0.89      0.89      5000\n",
            "\n"
          ]
        }
      ]
    },
    {
      "cell_type": "code",
      "source": [
        "# with all data\n",
        "# as we can see the results are a lot better\n",
        "\n",
        "pipeline_6.fit(X_train, y_train)\n",
        "predicted_6 = pipeline_6.predict(X_test)\n",
        "print(\"Classification Report Pipeline 6 (TF-IDF with ngram range (1,2) + SVM)\")\n",
        "print(\"Avg Accuracy: {}\".format(np.mean(predicted_6 == y_test)))\n",
        "print(metrics.classification_report(y_test, predicted_6))"
      ],
      "metadata": {
        "colab": {
          "base_uri": "https://localhost:8080/"
        },
        "id": "8TEUYluWH-5N",
        "outputId": "6dc2c191-2cf8-4923-9c2b-74a8b15d9eb5"
      },
      "execution_count": 18,
      "outputs": [
        {
          "output_type": "stream",
          "name": "stdout",
          "text": [
            "Classification Report Pipeline 6 (TF-IDF with ngram range (1,2) + SVM)\n",
            "Avg Accuracy: 0.9178\n",
            "              precision    recall  f1-score   support\n",
            "\n",
            "    negative       0.93      0.91      0.92      2471\n",
            "    positive       0.91      0.93      0.92      2529\n",
            "\n",
            "    accuracy                           0.92      5000\n",
            "   macro avg       0.92      0.92      0.92      5000\n",
            "weighted avg       0.92      0.92      0.92      5000\n",
            "\n"
          ]
        }
      ]
    }
  ],
  "metadata": {
    "colab": {
      "provenance": [],
      "collapsed_sections": [],
      "mount_file_id": "1BcGA5dTgXINkXnSiJ8CAz50IflO19IDu",
      "authorship_tag": "ABX9TyN5buLoq0EDSKhTRz227QxB",
      "include_colab_link": true
    },
    "kernelspec": {
      "display_name": "Python 3",
      "name": "python3"
    },
    "language_info": {
      "name": "python"
    }
  },
  "nbformat": 4,
  "nbformat_minor": 0
}